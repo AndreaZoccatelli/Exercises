{
  "nbformat": 4,
  "nbformat_minor": 0,
  "metadata": {
    "colab": {
      "provenance": []
    },
    "kernelspec": {
      "name": "python3",
      "display_name": "Python 3"
    },
    "language_info": {
      "name": "python"
    }
  },
  "cells": [
    {
      "cell_type": "code",
      "execution_count": null,
      "metadata": {
        "id": "Ci8brW1Ph9dW"
      },
      "outputs": [],
      "source": [
        "import numpy as np\n",
        "import matplotlib.pyplot as plt\n",
        "from scipy.stats import beta\n",
        "from math import sqrt"
      ]
    },
    {
      "cell_type": "code",
      "source": [
        "results = []\n",
        "prior = []\n",
        "#we expect that the coin is fair so mean = 0.5, but it is the first test, so uncertain with sd = 15%\n",
        "mean = 0.5\n",
        "sd = 0.15\n",
        "var = sd**2\n",
        "#a and b obtained by solving a system of 3 equations with 3 unknowns\n",
        "a = (((mean**2)-(mean**3))/var)-mean\n",
        "b = ((mean-(2*(mean**2))+(mean**3))/var)-(1-mean)"
      ],
      "metadata": {
        "id": "-J0c3sTniQE5"
      },
      "execution_count": null,
      "outputs": []
    },
    {
      "cell_type": "code",
      "source": [
        "print(a,b)"
      ],
      "metadata": {
        "colab": {
          "base_uri": "https://localhost:8080/"
        },
        "id": "w5r-UlF2-042",
        "outputId": "a2d6b0d5-2754-41ca-c56f-8e81532fb1cb"
      },
      "execution_count": null,
      "outputs": [
        {
          "output_type": "stream",
          "name": "stdout",
          "text": [
            "5.055555555555555 5.055555555555555\n"
          ]
        }
      ]
    },
    {
      "cell_type": "code",
      "source": [
        "fig, ax = plt.subplots(1, 1)\n",
        "x = np.linspace(beta.ppf(0, a, b),\n",
        "                beta.ppf(1, a, b), 100)\n",
        "ax.plot(x, beta.pdf(x, a, b),\n",
        "       'b-', lw=4, alpha=0.7, label='beta pdf')"
      ],
      "metadata": {
        "colab": {
          "base_uri": "https://localhost:8080/",
          "height": 283
        },
        "id": "F8Zagbf8_c93",
        "outputId": "43d2f7d1-0c3b-4c41-be8a-01445c495392"
      },
      "execution_count": null,
      "outputs": [
        {
          "output_type": "execute_result",
          "data": {
            "text/plain": [
              "[<matplotlib.lines.Line2D at 0x7f7f264a1590>]"
            ]
          },
          "metadata": {},
          "execution_count": 15
        },
        {
          "output_type": "display_data",
          "data": {
            "text/plain": [
              "<Figure size 432x288 with 1 Axes>"
            ],
            "image/png": "[encoded data removed]"
          },
          "metadata": {
            "needs_background": "light"
          }
        }
      ]
    },
    {
      "cell_type": "code",
      "source": [
        "#the coin is in reality unfair, with a probability of head equal to 30%\n",
        "#we update the prior with the results obtained from 100 tosses.\n",
        "results = []\n",
        "prior = []\n",
        "\n",
        "for k in range (100):\n",
        "  num = np.random.choice([0,1], p = [0.7, 0.3])\n",
        "  num = int(num)\n",
        "  if num == 1:\n",
        "    a = a+1\n",
        "  else:\n",
        "    b = b+1\n",
        "  prob = a/(a+b)\n",
        "  results.append(num)\n",
        "  prior.append(prob)"
      ],
      "metadata": {
        "id": "hoAqHkVk-m9y"
      },
      "execution_count": null,
      "outputs": []
    },
    {
      "cell_type": "code",
      "source": [
        "print(results)\n",
        "print(prior) #moves toward the probability of 30%"
      ],
      "metadata": {
        "colab": {
          "base_uri": "https://localhost:8080/"
        },
        "id": "NK5-hORIjxLe",
        "outputId": "4bcf8293-1679-48bf-fdd4-9380cea0add9"
      },
      "execution_count": null,
      "outputs": [
        {
          "output_type": "stream",
          "name": "stdout",
          "text": [
            "[0, 0, 1, 0, 0, 0, 1, 0, 1, 0, 0, 0, 1, 0, 1, 0, 0, 1, 0, 0, 1, 0, 0, 1, 1, 0, 1, 0, 1, 1, 0, 0, 1, 0, 0, 1, 0, 0, 0, 1, 0, 1, 0, 0, 0, 0, 1, 0, 1, 0, 1, 1, 0, 1, 0, 0, 0, 1, 0, 1, 0, 0, 0, 0, 0, 0, 1, 1, 1, 1, 1, 0, 1, 0, 0, 0, 0, 0, 1, 1, 1, 0, 0, 1, 0, 0, 0, 0, 0, 1, 1, 0, 0, 0, 0, 1, 1, 0, 1, 0]\n",
            "[0.455, 0.41743119266055045, 0.461864406779661, 0.42913385826771655, 0.4007352941176471, 0.3758620689655172, 0.41233766233766234, 0.38957055214723924, 0.4215116279069767, 0.4005524861878453, 0.3815789473684211, 0.36432160804020103, 0.3918269230769231, 0.37557603686635943, 0.4004424778761062, 0.38510638297872335, 0.37090163934426224, 0.39328063241106714, 0.37977099236641215, 0.36715867158671583, 0.38749999999999996, 0.3754325259515571, 0.36409395973154357, 0.3827361563517915, 0.4003164556962025, 0.3892307692307692, 0.40568862275449097, 0.3950437317784256, 0.41051136363636365, 0.425207756232687, 0.41486486486486485, 0.4050131926121372, 0.41881443298969073, 0.4093198992443325, 0.4002463054187192, 0.41325301204819276, 0.4044811320754717, 0.3960739030023095, 0.38800904977375567, 0.40022172949002216, 0.3923913043478261, 0.40405117270788915, 0.39644351464435146, 0.3891170431211499, 0.38205645161290325, 0.37524752475247525, 0.3861867704280156, 0.3795411089866157, 0.3900375939849624, 0.3835489833641405, 0.3936363636363636, 0.4033989266547406, 0.3970070422535211, 0.40641247833622185, 0.40017064846416384, 0.3941176470588235, 0.3882450331125828, 0.3972267536704731, 0.3914790996784566, 0.4001584786053883, 0.39453125, 0.38906009244992296, 0.3837386018237082, 0.3785607196401799, 0.3735207100591716, 0.3686131386861314, 0.37680115273775217, 0.38477951635846375, 0.3925561797752809, 0.4001386962552011, 0.4075342465753425, 0.4025710419485792, 0.4097593582887701, 0.404887714663144, 0.4001305483028721, 0.39548387096774196, 0.3909438775510204, 0.3865069356872636, 0.3933915211970075, 0.4001233045622688, 0.40670731707317076, 0.40229191797346203, 0.3979713603818616, 0.40436835891381345, 0.40011682242990654, 0.3959537572254335, 0.39187643020594964, 0.38788221970554926, 0.3839686098654709, 0.39012208657047726, 0.39615384615384613, 0.39227421109902066, 0.3884698275862069, 0.3847385272145144, 0.3810782241014799, 0.3869109947643979, 0.3926348547717842, 0.38900308324768756, 0.39460285132382894, 0.3910191725529768]\n"
          ]
        }
      ]
    },
    {
      "cell_type": "code",
      "source": [
        "plt.hist(prior)\n",
        "plt.show"
      ],
      "metadata": {
        "colab": {
          "base_uri": "https://localhost:8080/",
          "height": 283
        },
        "id": "-eHGFUshM2E-",
        "outputId": "8803928f-704d-45a1-d638-681338a3e128"
      },
      "execution_count": null,
      "outputs": [
        {
          "output_type": "execute_result",
          "data": {
            "text/plain": [
              "<function matplotlib.pyplot.show(*args, **kw)>"
            ]
          },
          "metadata": {},
          "execution_count": 26
        },
        {
          "output_type": "display_data",
          "data": {
            "text/plain": [
              "<Figure size 432x288 with 1 Axes>"
            ],
            "image/png": "[encoded data removed]"
          },
          "metadata": {
            "needs_background": "light"
          }
        }
      ]
    },
    {
      "cell_type": "code",
      "source": [
        "fig, ax = plt.subplots(1, 1)\n",
        "x = np.linspace(beta.ppf(0, a, b),\n",
        "                beta.ppf(1, a, b), 100)\n",
        "ax.plot(x, beta.pdf(x, a, b),\n",
        "       'b-', lw=4, alpha=0.7, label='beta pdf')"
      ],
      "metadata": {
        "colab": {
          "base_uri": "https://localhost:8080/",
          "height": 283
        },
        "id": "u91mpkkXl8-N",
        "outputId": "d5a746dc-43b8-4e1a-97d1-49692ec8b714"
      },
      "execution_count": null,
      "outputs": [
        {
          "output_type": "execute_result",
          "data": {
            "text/plain": [
              "[<matplotlib.lines.Line2D at 0x7f7f2629ae90>]"
            ]
          },
          "metadata": {},
          "execution_count": 23
        },
        {
          "output_type": "display_data",
          "data": {
            "text/plain": [
              "<Figure size 432x288 with 1 Axes>"
            ],
            "image/png": "[encoded data removed]"
          },
          "metadata": {
            "needs_background": "light"
          }
        }
      ]
    },
    {
      "cell_type": "code",
      "source": [
        "p_final = a/(a+b)\n",
        "sd_final = sqrt((a*b)/((a+b)**2)*(a+b+1))\n",
        "\n",
        "print(a, b)\n",
        "print(p_final, sd_final)"
      ],
      "metadata": {
        "colab": {
          "base_uri": "https://localhost:8080/"
        },
        "id": "awUCneo0IfBm",
        "outputId": "a50349a7-fc8d-4339-e75f-469182999e30"
      },
      "execution_count": null,
      "outputs": [
        {
          "output_type": "stream",
          "name": "stdout",
          "text": [
            "350.05555555555554 760.0555555555555\n",
            "0.31533380042037834 15.488289294130844\n"
          ]
        }
      ]
    }
  ]
}